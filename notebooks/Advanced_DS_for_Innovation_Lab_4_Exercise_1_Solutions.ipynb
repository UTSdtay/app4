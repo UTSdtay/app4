{
  "nbformat": 4,
  "nbformat_minor": 0,
  "metadata": {
    "colab": {
      "name": "Advanced DS for Innovation - Lab 4 - Exercise 1 - Solutions",
      "provenance": [],
      "collapsed_sections": []
    },
    "kernelspec": {
      "name": "python3",
      "display_name": "Python 3"
    }
  },
  "cells": [
    {
      "cell_type": "markdown",
      "metadata": {
        "id": "uQ6wc2HE0pke"
      },
      "source": [
        "# **Lab: Model Deployment**\n",
        "\n"
      ]
    },
    {
      "cell_type": "markdown",
      "metadata": {
        "id": "tQgxLRrvjiJb"
      },
      "source": [
        "## Exercise 1: Sklearn Pipeline\n",
        "\n",
        "In this exercise, we will build a pipeline for transforming input data and build a Gaussian Mixture Model. We will be woking on the Mall Customer dataset:\n",
        "https://raw.githubusercontent.com/AGilarde12/Mall-Customer-Segmentation/master/Data/Mall_Customers.csv\n",
        "\n",
        "The steps are:\n",
        "1.   Setup Repository\n",
        "2.   Load and Explore Dataset\n",
        "3.   Prepare Data\n",
        "4.   Gaussian Mixture Model\n",
        "5.   Build Pipeline\n",
        "6.   Push Changes\n"
      ]
    },
    {
      "cell_type": "markdown",
      "metadata": {
        "id": "smh_LhVjIg9s"
      },
      "source": [
        "### 1. Setup Repository"
      ]
    },
    {
      "cell_type": "markdown",
      "metadata": {
        "id": "_fTLEcebNjhz"
      },
      "source": [
        "**[1.1]** Go to a folder of your choice on your computer (where you store projects)"
      ]
    },
    {
      "cell_type": "code",
      "metadata": {
        "id": "Pe-loIVTNjqW"
      },
      "source": [
        "# Placeholder for student's code (1 command line)\n",
        "# Task: Go to a folder of your choice on your computer (where you store projects)"
      ],
      "execution_count": null,
      "outputs": []
    },
    {
      "cell_type": "code",
      "metadata": {
        "id": "QHPUrI1Cu-g-"
      },
      "source": [
        "#Solution:\n",
        "cd ~/Projects/"
      ],
      "execution_count": null,
      "outputs": []
    },
    {
      "cell_type": "markdown",
      "metadata": {
        "id": "EHQBJUHEQqcs"
      },
      "source": [
        "**[1.2]** Copy the cookiecutter data science template"
      ]
    },
    {
      "cell_type": "code",
      "metadata": {
        "id": "bM-1oZYxQqmO"
      },
      "source": [
        "# Placeholder for student's code (1 command line)\n",
        "# Task: Copy the cookiecutter data science template"
      ],
      "execution_count": null,
      "outputs": []
    },
    {
      "cell_type": "code",
      "metadata": {
        "id": "TbseMHf7Qqo2"
      },
      "source": [
        "#Solution:\n",
        "cookiecutter https://github.com/drivendata/cookiecutter-data-science"
      ],
      "execution_count": null,
      "outputs": []
    },
    {
      "cell_type": "markdown",
      "metadata": {
        "id": "scwewLhrRB_y"
      },
      "source": [
        "Follow the prompt (name the project and repo adv_dsi_lab_4)"
      ]
    },
    {
      "cell_type": "markdown",
      "metadata": {
        "id": "elPnd9JPQwkD"
      },
      "source": [
        "**[1.3]** Go inside the created folder `adv_dsi_lab_4`\n"
      ]
    },
    {
      "cell_type": "code",
      "metadata": {
        "id": "5VlHqFVqQwuC"
      },
      "source": [
        "# Placeholder for student's code (1 command line)\n",
        "# Task: Go inside the created folder adv_dsi_lab_4"
      ],
      "execution_count": null,
      "outputs": []
    },
    {
      "cell_type": "code",
      "metadata": {
        "id": "df9ydWQNQww0"
      },
      "source": [
        "#Solution:\n",
        "cd adv_dsi_lab_4"
      ],
      "execution_count": null,
      "outputs": []
    },
    {
      "cell_type": "markdown",
      "metadata": {
        "id": "P7KRLjcRn2d4"
      },
      "source": [
        "**[1.4]** Create a file called `Dockerfile` and add the following content:\n",
        "\n",
        "`FROM jupyter/scipy-notebook:0ce64578df46`\n",
        "\n",
        "`RUN conda install yellowbrick`\n",
        "\n",
        "`RUN pip install mlflow==1.13`\n",
        "\n",
        "`RUN pip install psycopg2-binary==2.8.5`\n",
        "\n",
        "`ENV PYTHONPATH \"${PYTHONPATH}:/home/jovyan/work\"`\n",
        "\n",
        "`RUN echo \"export PYTHONPATH=/home/jovyan/work\" >> ~/.bashrc`\n",
        "\n",
        "`WORKDIR /home/jovyan/work`\n"
      ]
    },
    {
      "cell_type": "code",
      "metadata": {
        "id": "xBNTTx7UAVCV"
      },
      "source": [
        "# Placeholder for student's code (1 command line)\n",
        "# Task: Create a file called Dockerfile "
      ],
      "execution_count": null,
      "outputs": []
    },
    {
      "cell_type": "code",
      "metadata": {
        "id": "hsv0dkk1n7Bg"
      },
      "source": [
        "#Solution:\n",
        "vi Dockerfile"
      ],
      "execution_count": null,
      "outputs": []
    },
    {
      "cell_type": "markdown",
      "metadata": {
        "id": "5r0cSHUtSqgS"
      },
      "source": [
        "We will create our own Docker image based on the official jupyter/scipy-notebook."
      ]
    },
    {
      "cell_type": "markdown",
      "metadata": {
        "id": "gwC9GRvsTvOJ"
      },
      "source": [
        "**[1.5]** Build the image from this Dockerfile"
      ]
    },
    {
      "cell_type": "code",
      "metadata": {
        "id": "tBlpvOyYTvYm"
      },
      "source": [
        "docker build -t gmm-notebook:latest ."
      ],
      "execution_count": null,
      "outputs": []
    },
    {
      "cell_type": "markdown",
      "metadata": {
        "id": "4MvpO7cVYC_P"
      },
      "source": [
        "Syntax: docker build [OPTIONS] PATH \n",
        "\n",
        "Options:\n",
        "\n",
        "`-t: Name and optionally a tag in the 'name:tag' format`\n",
        "\n",
        "Documentation: https://docs.docker.com/engine/reference/commandline/build/"
      ]
    },
    {
      "cell_type": "markdown",
      "metadata": {
        "id": "urrLvZmTUX23"
      },
      "source": [
        "**[1.6]** Run the built image"
      ]
    },
    {
      "cell_type": "code",
      "metadata": {
        "id": "nDAwl-fSVgIe"
      },
      "source": [
        "docker run  -dit --rm --name adv_dsi_lab_4 -p 8888:8888 -e JUPYTER_ENABLE_LAB=yes -v \"$PWD\":/home/jovyan/work -v ~/Projects/adv_dsi/src:/home/jovyan/work/src gmm-notebook:latest "
      ],
      "execution_count": null,
      "outputs": []
    },
    {
      "cell_type": "markdown",
      "metadata": {
        "id": "4fO9RJMhwGpM"
      },
      "source": [
        "**[1.7]** Display last 50 lines of logs"
      ]
    },
    {
      "cell_type": "code",
      "metadata": {
        "id": "RwizA-K3wGyb"
      },
      "source": [
        "docker logs --tail 50 adv_dsi_lab_4"
      ],
      "execution_count": null,
      "outputs": []
    },
    {
      "cell_type": "markdown",
      "metadata": {
        "id": "QxkJaPioCmEO"
      },
      "source": [
        "Copy the url displayed and paste it to a browser in order to launch Jupyter Lab"
      ]
    },
    {
      "cell_type": "markdown",
      "metadata": {
        "id": "4MCoAnnacjS1"
      },
      "source": [
        "**[1.8]** Initialise the repo"
      ]
    },
    {
      "cell_type": "code",
      "metadata": {
        "id": "P-TPhgLMcjaL"
      },
      "source": [
        "# Placeholder for student's code (1 command line)\n",
        "# Task: Initialise the repo"
      ],
      "execution_count": null,
      "outputs": []
    },
    {
      "cell_type": "code",
      "metadata": {
        "id": "jTTOWPgjckKe"
      },
      "source": [
        "#Solution:\n",
        "git init"
      ],
      "execution_count": null,
      "outputs": []
    },
    {
      "cell_type": "markdown",
      "metadata": {
        "id": "hGw8ot1UdHqg"
      },
      "source": [
        "**[1.9]** Login into Github with your account (https://github.com/) and create a public repo with the name `adv_dsi_lab_4`"
      ]
    },
    {
      "cell_type": "markdown",
      "metadata": {
        "id": "jD4H0EtCdDFr"
      },
      "source": [
        "**[1.10]** In your local repo `adv_dsi_lab_4`, link it with Github (replace the url with your username)"
      ]
    },
    {
      "cell_type": "code",
      "metadata": {
        "id": "_3fCS9HtdDNw"
      },
      "source": [
        "# Placeholder for student's code (1 command line)\n",
        "# Task: Link repo with Github"
      ],
      "execution_count": null,
      "outputs": []
    },
    {
      "cell_type": "code",
      "metadata": {
        "id": "lpxHoo3SdDQo"
      },
      "source": [
        "#Solution:\n",
        "git remote add origin git@github.com:<username>/adv_dsi_lab_1_4"
      ],
      "execution_count": null,
      "outputs": []
    },
    {
      "cell_type": "markdown",
      "metadata": {
        "id": "8nd4YxFyTgt3"
      },
      "source": [
        "**[1.11]** Add you changes to git staging area and commit them"
      ]
    },
    {
      "cell_type": "code",
      "metadata": {
        "id": "pAHrqi05Tg2r"
      },
      "source": [
        "# Placeholder for student's code (2 command lines)\n",
        "# Task: Add you changes to git staging area and commit them"
      ],
      "execution_count": null,
      "outputs": []
    },
    {
      "cell_type": "code",
      "metadata": {
        "id": "DS1hq_k3Tg6G"
      },
      "source": [
        "#Solution:\n",
        "git add .\n",
        "git commit -m \"init\""
      ],
      "execution_count": null,
      "outputs": []
    },
    {
      "cell_type": "markdown",
      "metadata": {
        "id": "3oRUjdX0dbBu"
      },
      "source": [
        "**[1.12]** Push your master branch to origin"
      ]
    },
    {
      "cell_type": "code",
      "metadata": {
        "id": "1UzrKvGtdbGy"
      },
      "source": [
        "# Placeholder for student's code (1 command line)\n",
        "# Task: Push your master branch to origin"
      ],
      "execution_count": null,
      "outputs": []
    },
    {
      "cell_type": "code",
      "metadata": {
        "id": "Wv0pkcLkdbPL"
      },
      "source": [
        "#Solution:\n",
        "git push --set-upstream origin master"
      ],
      "execution_count": null,
      "outputs": []
    },
    {
      "cell_type": "markdown",
      "metadata": {
        "id": "4Qi_s0iX944f"
      },
      "source": [
        "**[1.13]** Preventing push to `master` branch"
      ]
    },
    {
      "cell_type": "code",
      "metadata": {
        "id": "yl6d3Z9E94_7"
      },
      "source": [
        "# Placeholder for student's code (1 command line)\n",
        "# Task: Preventing push to master branch"
      ],
      "execution_count": null,
      "outputs": []
    },
    {
      "cell_type": "code",
      "metadata": {
        "id": "7DFaVwP095D6"
      },
      "source": [
        "# Solution\n",
        "git config branch.master.pushRemote no_push"
      ],
      "execution_count": null,
      "outputs": []
    },
    {
      "cell_type": "markdown",
      "metadata": {
        "id": "jxQRDLu2C6D4"
      },
      "source": [
        "**[1.14]** Create a new git branch called `gmm_pipeline`"
      ]
    },
    {
      "cell_type": "code",
      "metadata": {
        "id": "y-S-ZdcqdoF7"
      },
      "source": [
        "# Placeholder for student's code (1 command line)\n",
        "# Task: Create a new git branch called gmm_pipeline"
      ],
      "execution_count": null,
      "outputs": []
    },
    {
      "cell_type": "code",
      "metadata": {
        "id": "zBD6K4MXC6rA"
      },
      "source": [
        "#Solution:\n",
        "git checkout -b gmm_pipeline"
      ],
      "execution_count": null,
      "outputs": []
    },
    {
      "cell_type": "markdown",
      "metadata": {
        "id": "yTjwF_joDWnE"
      },
      "source": [
        "**[1.15]** Navigate the folder `notebooks` and create a new jupyter notebook called `1_gmm_pipeline.ipynb`"
      ]
    },
    {
      "cell_type": "markdown",
      "metadata": {
        "id": "_NCwQQFkU3v5"
      },
      "source": [
        "### 2.   Load and Explore Dataset"
      ]
    },
    {
      "cell_type": "markdown",
      "metadata": {
        "id": "JAIO_Y5Z9_Ay"
      },
      "source": [
        "**[2.1]** Import the pandas and numpy packages"
      ]
    },
    {
      "cell_type": "code",
      "metadata": {
        "id": "SiroVmhn9_HP"
      },
      "source": [
        "# Placeholder for student's code (3 lines of Python code)\n",
        "# Task: mport the pandas and numpy packages"
      ],
      "execution_count": null,
      "outputs": []
    },
    {
      "cell_type": "code",
      "metadata": {
        "id": "2VRE9JYD9_Kk"
      },
      "source": [
        "#Solution\n",
        "import pandas as pd\n",
        "import numpy as np"
      ],
      "execution_count": null,
      "outputs": []
    },
    {
      "cell_type": "markdown",
      "metadata": {
        "id": "nbRDgod3_3Yv"
      },
      "source": [
        "**[2.4]** Create a variable called `file_url` containing th url to the raw dataset"
      ]
    },
    {
      "cell_type": "code",
      "metadata": {
        "id": "MLb163oq_3iR"
      },
      "source": [
        "# Placeholder for student's code (1 line of Python code)\n",
        "# Task: Create a variable called file_url containing th url to the raw dataset"
      ],
      "execution_count": null,
      "outputs": []
    },
    {
      "cell_type": "code",
      "metadata": {
        "id": "gcaDN6V3_3q9"
      },
      "source": [
        "#Solution\n",
        "file_url = 'https://raw.githubusercontent.com/AGilarde12/Mall-Customer-Segmentation/master/Data/Mall_Customers.csv'"
      ],
      "execution_count": null,
      "outputs": []
    },
    {
      "cell_type": "markdown",
      "metadata": {
        "id": "R-Zy6Oq8pkuB"
      },
      "source": [
        "**[2.5]** Load the data in a dataframe called `df`\n"
      ]
    },
    {
      "cell_type": "code",
      "metadata": {
        "id": "ZresJIasqpgH"
      },
      "source": [
        "# Placeholder for student's code (1 line of Python code)\n",
        "# Task: Load the data in a dataframe called df"
      ],
      "execution_count": null,
      "outputs": []
    },
    {
      "cell_type": "code",
      "metadata": {
        "id": "Q1iETWjDftMg"
      },
      "source": [
        "#Solution:\n",
        "df = pd.read_csv(file_url)"
      ],
      "execution_count": null,
      "outputs": []
    },
    {
      "cell_type": "markdown",
      "metadata": {
        "id": "CLyMcoNCsx2k"
      },
      "source": [
        "**[2.6]** Display the first 5 rows of df"
      ]
    },
    {
      "cell_type": "code",
      "metadata": {
        "id": "CJKSOaRPsbuD"
      },
      "source": [
        "# Placeholder for student's code (1 line of Python code)\n",
        "# Task: Display the first 5 rows of df"
      ],
      "execution_count": null,
      "outputs": []
    },
    {
      "cell_type": "code",
      "metadata": {
        "id": "xvnbhiPhs0ZP",
        "colab": {
          "base_uri": "https://localhost:8080/",
          "height": 204
        },
        "outputId": "b9331f9d-3113-4be6-ac79-57c3214ad464"
      },
      "source": [
        "# Solution\n",
        "df.head()"
      ],
      "execution_count": null,
      "outputs": [
        {
          "output_type": "execute_result",
          "data": {
            "text/html": [
              "<div>\n",
              "<style scoped>\n",
              "    .dataframe tbody tr th:only-of-type {\n",
              "        vertical-align: middle;\n",
              "    }\n",
              "\n",
              "    .dataframe tbody tr th {\n",
              "        vertical-align: top;\n",
              "    }\n",
              "\n",
              "    .dataframe thead th {\n",
              "        text-align: right;\n",
              "    }\n",
              "</style>\n",
              "<table border=\"1\" class=\"dataframe\">\n",
              "  <thead>\n",
              "    <tr style=\"text-align: right;\">\n",
              "      <th></th>\n",
              "      <th>CustomerID</th>\n",
              "      <th>Genre</th>\n",
              "      <th>Age</th>\n",
              "      <th>Annual Income (k$)</th>\n",
              "      <th>Spending Score (1-100)</th>\n",
              "    </tr>\n",
              "  </thead>\n",
              "  <tbody>\n",
              "    <tr>\n",
              "      <th>0</th>\n",
              "      <td>1</td>\n",
              "      <td>Male</td>\n",
              "      <td>19</td>\n",
              "      <td>15</td>\n",
              "      <td>39</td>\n",
              "    </tr>\n",
              "    <tr>\n",
              "      <th>1</th>\n",
              "      <td>2</td>\n",
              "      <td>Male</td>\n",
              "      <td>21</td>\n",
              "      <td>15</td>\n",
              "      <td>81</td>\n",
              "    </tr>\n",
              "    <tr>\n",
              "      <th>2</th>\n",
              "      <td>3</td>\n",
              "      <td>Female</td>\n",
              "      <td>20</td>\n",
              "      <td>16</td>\n",
              "      <td>6</td>\n",
              "    </tr>\n",
              "    <tr>\n",
              "      <th>3</th>\n",
              "      <td>4</td>\n",
              "      <td>Female</td>\n",
              "      <td>23</td>\n",
              "      <td>16</td>\n",
              "      <td>77</td>\n",
              "    </tr>\n",
              "    <tr>\n",
              "      <th>4</th>\n",
              "      <td>5</td>\n",
              "      <td>Female</td>\n",
              "      <td>31</td>\n",
              "      <td>17</td>\n",
              "      <td>40</td>\n",
              "    </tr>\n",
              "  </tbody>\n",
              "</table>\n",
              "</div>"
            ],
            "text/plain": [
              "   CustomerID   Genre  Age  Annual Income (k$)  Spending Score (1-100)\n",
              "0           1    Male   19                  15                      39\n",
              "1           2    Male   21                  15                      81\n",
              "2           3  Female   20                  16                       6\n",
              "3           4  Female   23                  16                      77\n",
              "4           5  Female   31                  17                      40"
            ]
          },
          "metadata": {
            "tags": []
          },
          "execution_count": 8
        }
      ]
    },
    {
      "cell_type": "markdown",
      "metadata": {
        "id": "gQgeYjQDs12m"
      },
      "source": [
        "**[2.7]** Display the dimensions (shape) of df"
      ]
    },
    {
      "cell_type": "code",
      "metadata": {
        "id": "dOA7T87hs19l"
      },
      "source": [
        "# Placeholder for student's code (1 line of Python code)\n",
        "# Task: Task: Display the dimensions (shape) of df"
      ],
      "execution_count": null,
      "outputs": []
    },
    {
      "cell_type": "code",
      "metadata": {
        "id": "Dg_89DlAs1_w"
      },
      "source": [
        "# Solution\n",
        "df.shape"
      ],
      "execution_count": null,
      "outputs": []
    },
    {
      "cell_type": "markdown",
      "metadata": {
        "id": "xyle1PCws7B0"
      },
      "source": [
        "**[2.8]** Display the summary (info) of df"
      ]
    },
    {
      "cell_type": "code",
      "metadata": {
        "id": "RrNAGFzxs7JU"
      },
      "source": [
        "# Placeholder for student's code (1 line of Python code)\n",
        "# Task: Display the summary (info) of df"
      ],
      "execution_count": null,
      "outputs": []
    },
    {
      "cell_type": "code",
      "metadata": {
        "id": "l1msvlh7s7Lt"
      },
      "source": [
        "# Solution\n",
        "df.info()"
      ],
      "execution_count": null,
      "outputs": []
    },
    {
      "cell_type": "markdown",
      "metadata": {
        "id": "eWLgqm2YtAgP"
      },
      "source": [
        "**[2.9]** Display the descriptive statistics of df\n"
      ]
    },
    {
      "cell_type": "code",
      "metadata": {
        "id": "2ZnOCCtjtAnj"
      },
      "source": [
        "# Placeholder for student's code (1 line of Python code)\n",
        "# Task: Display the descriptive statictics of df"
      ],
      "execution_count": null,
      "outputs": []
    },
    {
      "cell_type": "code",
      "metadata": {
        "id": "FQLSaoXltAp-"
      },
      "source": [
        "# Solution\n",
        "df.describe()"
      ],
      "execution_count": null,
      "outputs": []
    },
    {
      "cell_type": "markdown",
      "metadata": {
        "id": "3aWaMMzBBVC5"
      },
      "source": [
        "**[2.10]** Save the dataframe locally in the `data/raw` folder"
      ]
    },
    {
      "cell_type": "code",
      "metadata": {
        "id": "lLz5oN2KBVOB"
      },
      "source": [
        "# Placeholder for student's code (1 line of Python code)\n",
        "# Save the dataframe locally in the data/raw folder"
      ],
      "execution_count": null,
      "outputs": []
    },
    {
      "cell_type": "code",
      "metadata": {
        "id": "WeiW3cRdBeUV"
      },
      "source": [
        "# Solution\n",
        "df.to_csv('../data/raw/Mall_Customers.csv', index=False)"
      ],
      "execution_count": null,
      "outputs": []
    },
    {
      "cell_type": "markdown",
      "metadata": {
        "id": "miQ6SiKlscLx"
      },
      "source": [
        "### 3. Prepare Data"
      ]
    },
    {
      "cell_type": "markdown",
      "metadata": {
        "id": "NtuF1V6ctwn-"
      },
      "source": [
        "**[3.1]** Create a copy of `df` and save it into a variable called `df_cleaned`"
      ]
    },
    {
      "cell_type": "code",
      "metadata": {
        "id": "Zqaz1C7DtwuU"
      },
      "source": [
        "# Placeholder for student's code (1 line of Python code)\n",
        "# Task: Create a copy of df and save it into a variable called df_cleaned"
      ],
      "execution_count": null,
      "outputs": []
    },
    {
      "cell_type": "code",
      "metadata": {
        "id": "HrXR7NCLtwxB"
      },
      "source": [
        "# Solution\n",
        "df_cleaned = df.copy()"
      ],
      "execution_count": null,
      "outputs": []
    },
    {
      "cell_type": "markdown",
      "metadata": {
        "id": "YjeBCJSBzPg7"
      },
      "source": [
        "**[3.2]** Drop the column `CustomerID` from the dataframe and save it into the `data/interim` folder"
      ]
    },
    {
      "cell_type": "code",
      "metadata": {
        "id": "kLBoIOTMzPpx"
      },
      "source": [
        "# Placeholder for student's code (1 line of Python code)\n",
        "# Task: Drop the column CustomerID from the dataframe and save it into the data/interim folder"
      ],
      "execution_count": null,
      "outputs": []
    },
    {
      "cell_type": "code",
      "metadata": {
        "id": "vhvB1iC7zPr3"
      },
      "source": [
        "# Solution\n",
        "df_cleaned.drop('CustomerID', axis=1, inplace=True)\n",
        "df_cleaned.to_csv('../data/interim/Mall_Customers.csv', index=False)"
      ],
      "execution_count": null,
      "outputs": []
    },
    {
      "cell_type": "markdown",
      "metadata": {
        "id": "Cx4JAuiuzaIe"
      },
      "source": [
        "**[3.3]** Import `train_test_split` from `sklearn.model_selection`"
      ]
    },
    {
      "cell_type": "code",
      "metadata": {
        "id": "9F1r617azaTb"
      },
      "source": [
        "# Placeholder for student's code (1 line of Python code)\n",
        "# Task: Import train_test_split from sklearn.model_selection"
      ],
      "execution_count": null,
      "outputs": []
    },
    {
      "cell_type": "code",
      "metadata": {
        "id": "OOefCMTLzaRQ"
      },
      "source": [
        "# Solution\n",
        "from sklearn.model_selection import train_test_split"
      ],
      "execution_count": null,
      "outputs": []
    },
    {
      "cell_type": "markdown",
      "metadata": {
        "id": "X7DCMLV6TBjr"
      },
      "source": [
        "**[3.4]** Split the data into training and testing sets with 80-20 ratio"
      ]
    },
    {
      "cell_type": "code",
      "metadata": {
        "id": "KF8jX4Y7TBtB"
      },
      "source": [
        "# Placeholder for student's code (1 line of Python code)\n",
        "# Task: Split the data into training and testing sets with 80-20 ratio"
      ],
      "execution_count": null,
      "outputs": []
    },
    {
      "cell_type": "code",
      "metadata": {
        "id": "ICjW0_-4TBvu"
      },
      "source": [
        "# Solution\n",
        "X_train, X_test = train_test_split(df_cleaned, test_size=0.2, random_state=8)"
      ],
      "execution_count": null,
      "outputs": []
    },
    {
      "cell_type": "markdown",
      "metadata": {
        "id": "yvEl7w7GTWfL"
      },
      "source": [
        "**[3.5]** Create a copy of `X_train` and save it into a variable called `X_train_cleaned`"
      ]
    },
    {
      "cell_type": "code",
      "metadata": {
        "id": "RNU9-pDNTWnA"
      },
      "source": [
        "# Placeholder for student's code (1 line of Python code)\n",
        "# Task: Create a copy of X_train and save it into a variable called X_train_cleaned"
      ],
      "execution_count": null,
      "outputs": []
    },
    {
      "cell_type": "code",
      "metadata": {
        "id": "Xuo9WuYhTWr4"
      },
      "source": [
        "# Solution\n",
        "X_train_cleaned = X_train.copy()"
      ],
      "execution_count": null,
      "outputs": []
    },
    {
      "cell_type": "markdown",
      "metadata": {
        "id": "m1RrTCBRDybQ"
      },
      "source": [
        "**[3.6]** Import `StandardScaler` and `OneHotEncoder` from `sklearn.preprocessing`"
      ]
    },
    {
      "cell_type": "code",
      "metadata": {
        "id": "wtYjKp_1DyiT"
      },
      "source": [
        "# Placeholder for student's code (1 line of Python code)\n",
        "# Task: Import StandardScaler and OneHotEncoder from sklearn.preprocessing"
      ],
      "execution_count": null,
      "outputs": []
    },
    {
      "cell_type": "code",
      "metadata": {
        "id": "aezRs9S3Dyl0"
      },
      "source": [
        "# Solution\n",
        "from sklearn.preprocessing import StandardScaler, OneHotEncoder"
      ],
      "execution_count": null,
      "outputs": []
    },
    {
      "cell_type": "markdown",
      "metadata": {
        "id": "5pKaCxasERAt"
      },
      "source": [
        "**[3.7]** Create a list called `num_cols` that contains `Age`, `Annual Income (k$)` and `Spending Score (1-100)`"
      ]
    },
    {
      "cell_type": "code",
      "metadata": {
        "id": "qbqcA0Lg0Nqa"
      },
      "source": [
        "# Placeholder for student's code (1 line of Python code)\n",
        "# Task: Create a list called num_cols that contains Age, Annual Income (k$) and Spending Score (1-100)"
      ],
      "execution_count": null,
      "outputs": []
    },
    {
      "cell_type": "code",
      "metadata": {
        "id": "yDwCmIXvERJO"
      },
      "source": [
        "# Solution\n",
        "num_cols = ['Age', 'Annual Income (k$)', 'Spending Score (1-100)']"
      ],
      "execution_count": null,
      "outputs": []
    },
    {
      "cell_type": "markdown",
      "metadata": {
        "id": "-l0Hkri1FVrv"
      },
      "source": [
        "**[3.8]** Instantiate a `StandardScaler` and called it `sc`"
      ]
    },
    {
      "cell_type": "code",
      "metadata": {
        "id": "-f6eVl84FVy_"
      },
      "source": [
        "# Placeholder for student's code (1 line of Python code)\n",
        "# Task: Instantiate a StandardScaler and called it sc"
      ],
      "execution_count": null,
      "outputs": []
    },
    {
      "cell_type": "code",
      "metadata": {
        "id": "x_yCjMqgFV1u"
      },
      "source": [
        "# Solution\n",
        "sc = StandardScaler()"
      ],
      "execution_count": null,
      "outputs": []
    },
    {
      "cell_type": "markdown",
      "metadata": {
        "id": "w2v1vLMWTofp"
      },
      "source": [
        "**[3.9]** Fit and transform the numeric feature of `X_train_cleaned` and replace the data into it"
      ]
    },
    {
      "cell_type": "code",
      "metadata": {
        "id": "BcTo7drqTom4"
      },
      "source": [
        "# Placeholder for student's code (1 line of Python code)\n",
        "# Task: Fit and transform the numeric feature of X_train_cleaned and replace the data into it"
      ],
      "execution_count": null,
      "outputs": []
    },
    {
      "cell_type": "code",
      "metadata": {
        "id": "dfUpbRYSTopS"
      },
      "source": [
        "# Solution\n",
        "X_train_cleaned[num_cols] = sc.fit_transform(X_train_cleaned[num_cols])"
      ],
      "execution_count": null,
      "outputs": []
    },
    {
      "cell_type": "markdown",
      "metadata": {
        "id": "lt8YYcHuTsDs"
      },
      "source": [
        "**[3.10]** Create a list called `cat_cols` that contains `Gender`"
      ]
    },
    {
      "cell_type": "code",
      "metadata": {
        "id": "0Fs5Lt8jTsLK"
      },
      "source": [
        "# Placeholder for student's code (1 line of Python code)\n",
        "# Task: Create a list called cat_cols that contains Gender"
      ],
      "execution_count": null,
      "outputs": []
    },
    {
      "cell_type": "code",
      "metadata": {
        "id": "z6isEtGBTsNz"
      },
      "source": [
        "# Solution\n",
        "cat_cols = ['Gender']"
      ],
      "execution_count": null,
      "outputs": []
    },
    {
      "cell_type": "markdown",
      "metadata": {
        "id": "qFGEj92zZKUX"
      },
      "source": [
        "**[3.11]** Instantiate a `OneHotEncoder` with `sparse=False` and `drop='first'` and save it to a variable called `ohe`"
      ]
    },
    {
      "cell_type": "code",
      "metadata": {
        "id": "hiwxa2PLZKb6"
      },
      "source": [
        "# Placeholder for student's code (1 line of Python code)\n",
        "# Task: Instantiate a OneHotEncoder with sparse=False and drop='first' and save it to a variable called ohe"
      ],
      "execution_count": null,
      "outputs": []
    },
    {
      "cell_type": "code",
      "metadata": {
        "id": "HMSXXBBOZKfP"
      },
      "source": [
        "# Solution\n",
        "ohe = OneHotEncoder(sparse=False, drop='first')"
      ],
      "execution_count": null,
      "outputs": []
    },
    {
      "cell_type": "markdown",
      "metadata": {
        "id": "DJSHphplGgjd"
      },
      "source": [
        "**[3.12]** Fit and transform the categorical feature of `X_train_cleaned` and replace the data into it"
      ]
    },
    {
      "cell_type": "code",
      "metadata": {
        "id": "y6_edJpBGgpk"
      },
      "source": [
        "# Placeholder for student's code (1 line of Python code)\n",
        "# Task: Fit and transform the categorical feature of `X_train_cleaned` and replace the data into it"
      ],
      "execution_count": null,
      "outputs": []
    },
    {
      "cell_type": "code",
      "metadata": {
        "id": "B4p4isj8Ggr4"
      },
      "source": [
        "# Solution\n",
        "X_train_cleaned[cat_cols] = ohe.fit_transform(X_train_cleaned[cat_cols])"
      ],
      "execution_count": null,
      "outputs": []
    },
    {
      "cell_type": "markdown",
      "metadata": {
        "id": "sXQCEL7aG0jp"
      },
      "source": [
        "**[3.13]** Reset the indexes of `X_train_cleaned`"
      ]
    },
    {
      "cell_type": "code",
      "metadata": {
        "id": "-WchTrcJG0qG"
      },
      "source": [
        "# Placeholder for student's code (1 line of Python code)\n",
        "# Task: Reset the indexes of X_train_cleaned"
      ],
      "execution_count": null,
      "outputs": []
    },
    {
      "cell_type": "code",
      "metadata": {
        "id": "yFkJXP3oG02H"
      },
      "source": [
        "# Solution\n",
        "X_train_cleaned.reset_index(drop=True, inplace=True)"
      ],
      "execution_count": null,
      "outputs": []
    },
    {
      "cell_type": "markdown",
      "metadata": {
        "id": "N8MNBrC4Zgz6"
      },
      "source": [
        "### 4. Gaussian Mixture Model"
      ]
    },
    {
      "cell_type": "markdown",
      "metadata": {
        "id": "3Lt1lE8lJ9zS"
      },
      "source": [
        "**[4.1]** Import `KElbowVisualizer` from `yellowbrick.cluster`\n",
        "`KMeans` from `sklearn.cluster`"
      ]
    },
    {
      "cell_type": "code",
      "metadata": {
        "id": "Kc6UHpDqJ96o"
      },
      "source": [
        "# Placeholder for student's code (2 lines of Python code)\n",
        "# Task: Import KElbowVisualizer from yellowbrick.cluster KMeans from sklearn.cluster"
      ],
      "execution_count": null,
      "outputs": []
    },
    {
      "cell_type": "code",
      "metadata": {
        "id": "2xufkK8VJ99s"
      },
      "source": [
        "# Solution\n",
        "from yellowbrick.cluster import KElbowVisualizer\n",
        "from sklearn.cluster import KMeans"
      ],
      "execution_count": null,
      "outputs": []
    },
    {
      "cell_type": "markdown",
      "metadata": {
        "id": "NFCSRIyMZuAR"
      },
      "source": [
        "**[4.2]** Instantiate a `KElbowVisualizer` with an instantied KMeans and k=(2, 15) and save it into a variable called `model`"
      ]
    },
    {
      "cell_type": "code",
      "metadata": {
        "id": "00BWv65bZg7C"
      },
      "source": [
        "# Placeholder for student's code (1 line of Python code)\n",
        "# Task: Instantiate a KElbowVisualizer with an instantied KMeans and k=(2, 15) and save it into a variable called model"
      ],
      "execution_count": null,
      "outputs": []
    },
    {
      "cell_type": "code",
      "metadata": {
        "id": "Eejq-COGZhCP"
      },
      "source": [
        "# Solution\n",
        "model = KElbowVisualizer(KMeans(), k=(2,15))"
      ],
      "execution_count": null,
      "outputs": []
    },
    {
      "cell_type": "markdown",
      "metadata": {
        "id": "sJNZfvA4dJ9X"
      },
      "source": [
        "**[4.3]** Fit `model` with `X_train_cleaned`"
      ]
    },
    {
      "cell_type": "code",
      "metadata": {
        "id": "Rdui0TivdKGE"
      },
      "source": [
        "# Placeholder for student's code (1 line of Python code)\n",
        "# Task: Fit model with X_train_cleaned"
      ],
      "execution_count": null,
      "outputs": []
    },
    {
      "cell_type": "code",
      "metadata": {
        "id": "fev4FWAYdU1G"
      },
      "source": [
        "# Solution\n",
        "model.fit(X_train_cleaned)"
      ],
      "execution_count": null,
      "outputs": []
    },
    {
      "cell_type": "markdown",
      "metadata": {
        "id": "4z3CpwGbd4Fi"
      },
      "source": [
        "**[4.4]** Save the attribute `elbow_value_` from `model` and save it to a variable called `n_clusters`"
      ]
    },
    {
      "cell_type": "code",
      "metadata": {
        "id": "aNuLNsVyd4M2"
      },
      "source": [
        "# Placeholder for student's code (1 line of Python code)\n",
        "# Task: Save the attribute elbow_value_ from model and save it to a variable called n_clusters"
      ],
      "execution_count": null,
      "outputs": []
    },
    {
      "cell_type": "code",
      "metadata": {
        "id": "Mpr1RQkLd4PS"
      },
      "source": [
        "# Solution\n",
        "n_clusters = model.elbow_value_"
      ],
      "execution_count": null,
      "outputs": []
    },
    {
      "cell_type": "markdown",
      "metadata": {
        "id": "kRLIZeci7cfW"
      },
      "source": [
        "**[4.5]** Import `GaussianMixture` from `sklearn.mixture`"
      ]
    },
    {
      "cell_type": "code",
      "metadata": {
        "id": "QehpZw7n7coW"
      },
      "source": [
        "# Placeholder for student's code (1 line of Python code)\n",
        "# Task: Import GaussianMixture from sklearn.mixture"
      ],
      "execution_count": null,
      "outputs": []
    },
    {
      "cell_type": "code",
      "metadata": {
        "id": "Z1Jt8WX57cqn"
      },
      "source": [
        "# Solution\n",
        "from sklearn.mixture import GaussianMixture"
      ],
      "execution_count": null,
      "outputs": []
    },
    {
      "cell_type": "markdown",
      "metadata": {
        "id": "jRbJdVoJ7mDh"
      },
      "source": [
        "**[4.6]** Instantiate a `GaussianMixture` with `n_components` and `random_state` set and save it into a variable called `gmm`"
      ]
    },
    {
      "cell_type": "code",
      "metadata": {
        "id": "wXyRjZRT7mLA"
      },
      "source": [
        "# Placeholder for student's code (1 line of Python code)\n",
        "# Task: Instantiate a GaussianMixture with n_components and random_state set and save it into a variable called gmm"
      ],
      "execution_count": null,
      "outputs": []
    },
    {
      "cell_type": "code",
      "metadata": {
        "id": "RIXBtBBL7mNa"
      },
      "source": [
        "# Solution\n",
        "gmm = GaussianMixture(n_components=n_clusters, random_state=8)"
      ],
      "execution_count": null,
      "outputs": []
    },
    {
      "cell_type": "markdown",
      "metadata": {
        "id": "HRwnFNe174pv"
      },
      "source": [
        "**[4.7]** Fit `gmm` with `X_train_cleaned`"
      ]
    },
    {
      "cell_type": "code",
      "metadata": {
        "id": "OpY4vwua74x4"
      },
      "source": [
        "# Placeholder for student's code (1 line of Python code)\n",
        "# Task: Fit gmm with X_train_cleaned"
      ],
      "execution_count": null,
      "outputs": []
    },
    {
      "cell_type": "code",
      "metadata": {
        "id": "4y7EbbrF740Q"
      },
      "source": [
        "# Solution\n",
        "gmm.fit(X_train_cleaned)"
      ],
      "execution_count": null,
      "outputs": []
    },
    {
      "cell_type": "markdown",
      "metadata": {
        "id": "l3xoUAii8CcO"
      },
      "source": [
        "**[4.8]** Make predictions on `X_train_cleaned`"
      ]
    },
    {
      "cell_type": "code",
      "metadata": {
        "id": "dG2gThCN8ClE"
      },
      "source": [
        "# Placeholder for student's code (1 line of Python code)\n",
        "# Task: Make predictions on X_train_cleaned"
      ],
      "execution_count": null,
      "outputs": []
    },
    {
      "cell_type": "code",
      "metadata": {
        "id": "NsZwiBHX8Cy6"
      },
      "source": [
        "# Solution\n",
        "gmm.predict(X_train_cleaned)"
      ],
      "execution_count": null,
      "outputs": []
    },
    {
      "cell_type": "markdown",
      "metadata": {
        "id": "ixxwvyeU8QpC"
      },
      "source": [
        "**[4.9]** Transform the first observation of `X_train_cleaned` into a dataframe and call it `obs` "
      ]
    },
    {
      "cell_type": "code",
      "metadata": {
        "id": "9HLMMGHP8Qw8"
      },
      "source": [
        "# Placeholder for student's code (1 line of Python code)\n",
        "# Task: Transform the first observation of X_train_cleaned into a dataframe and call it obs"
      ],
      "execution_count": null,
      "outputs": []
    },
    {
      "cell_type": "code",
      "metadata": {
        "id": "5hk8wRzR8Qzx"
      },
      "source": [
        "# Solution\n",
        "obs = pd.DataFrame(X_train_cleaned.iloc[0]).transpose()"
      ],
      "execution_count": null,
      "outputs": []
    },
    {
      "cell_type": "markdown",
      "metadata": {
        "id": "dHzwCEUW8ydJ"
      },
      "source": [
        "**[4.10]** Make prediction on `obs`"
      ]
    },
    {
      "cell_type": "code",
      "metadata": {
        "id": "2xMKkhMP8ykp"
      },
      "source": [
        "# Placeholder for student's code (1 line of Python code)\n",
        "# Task: Make prediction on obs"
      ],
      "execution_count": null,
      "outputs": []
    },
    {
      "cell_type": "code",
      "metadata": {
        "id": "ZIY8ZuJZ8ymx"
      },
      "source": [
        "# Solution\n",
        "gmm.predict(obs)"
      ],
      "execution_count": null,
      "outputs": []
    },
    {
      "cell_type": "markdown",
      "metadata": {
        "id": "JUEbyrm2ZzhL"
      },
      "source": [
        "### 5. Build Pipeline"
      ]
    },
    {
      "cell_type": "markdown",
      "metadata": {
        "id": "faMubeDzZzuX"
      },
      "source": [
        "**[5.1]** Import `Pipeline` from `sklearn.pipeline`"
      ]
    },
    {
      "cell_type": "code",
      "metadata": {
        "id": "KSrYPUCPZz1u"
      },
      "source": [
        "# Placeholder for student's code (1 line of Python code)\n",
        "# Task: Import Pipeline from sklearn.pipeline"
      ],
      "execution_count": null,
      "outputs": []
    },
    {
      "cell_type": "code",
      "metadata": {
        "id": "vBSoR7LTZz3-"
      },
      "source": [
        "# Solution:\n",
        "from sklearn.pipeline import Pipeline"
      ],
      "execution_count": null,
      "outputs": []
    },
    {
      "cell_type": "markdown",
      "metadata": {
        "id": "HKBNkwgmgVPQ"
      },
      "source": [
        "**[5.2]** Create a `Pipeline` called `num_transformer` with one step that contains `StandardScaler`"
      ]
    },
    {
      "cell_type": "code",
      "metadata": {
        "id": "2ohrllnggVWA"
      },
      "source": [
        "# Placeholder for student's code (multiple lines of Python code)\n",
        "# Task: Create a Pipeline called num_transformer with one step that contains StandardScaler"
      ],
      "execution_count": null,
      "outputs": []
    },
    {
      "cell_type": "code",
      "metadata": {
        "id": "5lna_U35gVYR"
      },
      "source": [
        "# Solution:\n",
        "num_transformer = Pipeline(\n",
        "    steps=[\n",
        "        ('scaler', StandardScaler())\n",
        "    ]\n",
        ")"
      ],
      "execution_count": null,
      "outputs": []
    },
    {
      "cell_type": "markdown",
      "metadata": {
        "id": "ORcJNo4ygaRa"
      },
      "source": [
        "**[5.3]** Create a `Pipeline` called `cat_transformer` with one step that contains `OneHotEncoder`"
      ]
    },
    {
      "cell_type": "code",
      "metadata": {
        "id": "QgVyt-4egaXE"
      },
      "source": [
        "# Placeholder for student's code (multiple lines of Python code)\n",
        "# Task: Create a Pipeline called cat_transformer with one step that contains OneHotEncoder"
      ],
      "execution_count": null,
      "outputs": []
    },
    {
      "cell_type": "code",
      "metadata": {
        "id": "QkXUqKMcgaZN"
      },
      "source": [
        "# Solution:\n",
        "cat_transformer = Pipeline(\n",
        "    steps=[\n",
        "        ('one_hot_encoder', OneHotEncoder(sparse=False, drop='first'))\n",
        "    ]\n",
        ")"
      ],
      "execution_count": null,
      "outputs": []
    },
    {
      "cell_type": "markdown",
      "metadata": {
        "id": "ekaUYYjqgfcF"
      },
      "source": [
        "**[5.4]** Import `ColumnTransformer` from `sklearn.compose`"
      ]
    },
    {
      "cell_type": "code",
      "metadata": {
        "id": "hSzb5ZsYgfhf"
      },
      "source": [
        "# Placeholder for student's code (1 line of Python code)\n",
        "# Task: Import ColumnTransformer from sklearn.compose"
      ],
      "execution_count": null,
      "outputs": []
    },
    {
      "cell_type": "code",
      "metadata": {
        "id": "h8Jmfhk0MQ0i"
      },
      "source": [
        "# Solution:\n",
        "from sklearn.compose import ColumnTransformer"
      ],
      "execution_count": null,
      "outputs": []
    },
    {
      "cell_type": "markdown",
      "metadata": {
        "id": "JE8fVHin92-6"
      },
      "source": [
        "**[5.5]** Create a `ColumnTransformer` called `preprocessor` with 2 steps containing `num_transformer` and `cat_transformer` that will be applied respectively to `num_cols` and `cat_cols`"
      ]
    },
    {
      "cell_type": "code",
      "metadata": {
        "id": "qAJZbmb-93Ge"
      },
      "source": [
        "# Placeholder for student's code (multiple lines of Python code)\n",
        "# Task: Create a ColumnTransformer called preprocessor with 2 steps containing num_transformer and cat_transformer that will be applied respectively to num_cols and cat_cols"
      ],
      "execution_count": null,
      "outputs": []
    },
    {
      "cell_type": "code",
      "metadata": {
        "id": "oludTfN193I-"
      },
      "source": [
        "# Solution:\n",
        "preprocessor = ColumnTransformer(\n",
        "    transformers=[\n",
        "        ('num_cols', num_transformer, num_cols),\n",
        "        ('cat_cols', cat_transformer, cat_cols)\n",
        "    ]\n",
        ")"
      ],
      "execution_count": null,
      "outputs": []
    },
    {
      "cell_type": "markdown",
      "metadata": {
        "id": "4sxqDnYJ_CxY"
      },
      "source": [
        "**[5.6]** Create a `Pipeline` called `gm_pipe` that contains 2 steps `preprocessor` and another that instantiate a GaussianMixture with same parameters as previously"
      ]
    },
    {
      "cell_type": "code",
      "metadata": {
        "id": "PhSo9x4U_C7v"
      },
      "source": [
        "# Placeholder for student's code (multiple lines of Python code)\n",
        "# Task: Create a Pipeline called gm_pipe that contains 2 steps preprocessor and another that instantiate a GaussianMixture with same parameters as previously"
      ],
      "execution_count": null,
      "outputs": []
    },
    {
      "cell_type": "code",
      "metadata": {
        "id": "GUxr7KPY_C-y"
      },
      "source": [
        "# Solution:\n",
        "gmm_pipe = Pipeline(\n",
        "    steps=[\n",
        "        ('preprocessor', preprocessor),\n",
        "        ('clustering', GaussianMixture(n_components=6, random_state=8))\n",
        "    ]\n",
        ")"
      ],
      "execution_count": null,
      "outputs": []
    },
    {
      "cell_type": "markdown",
      "metadata": {
        "id": "_nXfK0H-_1aM"
      },
      "source": [
        "**[5.7]** Fit `gmm_pipe` with `X_train`"
      ]
    },
    {
      "cell_type": "code",
      "metadata": {
        "id": "kHRtlTEE_1jm"
      },
      "source": [
        "# Placeholder for student's code (1 line of Python code)\n",
        "# Task: Fit gmm_pipe with X_train"
      ],
      "execution_count": null,
      "outputs": []
    },
    {
      "cell_type": "code",
      "metadata": {
        "id": "HjsdSLle_1mb"
      },
      "source": [
        "# Solution:\n",
        "gmm_pipe.fit(X_train)"
      ],
      "execution_count": null,
      "outputs": []
    },
    {
      "cell_type": "markdown",
      "metadata": {
        "id": "R7OmK12vAD1O"
      },
      "source": [
        "**[5.8]** Make predictions on X_train"
      ]
    },
    {
      "cell_type": "code",
      "metadata": {
        "id": "ecKYasO3AD7L"
      },
      "source": [
        "# Placeholder for student's code (1 line of Python code)\n",
        "# Task: Make predictions on X_train"
      ],
      "execution_count": null,
      "outputs": []
    },
    {
      "cell_type": "code",
      "metadata": {
        "id": "O7IyO0ugAD9d"
      },
      "source": [
        "# Solution:\n",
        "gmm_pipe.predict(X_train)"
      ],
      "execution_count": null,
      "outputs": []
    },
    {
      "cell_type": "markdown",
      "metadata": {
        "id": "tLMMkp9XAGMf"
      },
      "source": [
        "**[5.9]** Transform the first observation of `X_train` into a dataframe, call it `obs` and make prediction on it"
      ]
    },
    {
      "cell_type": "code",
      "metadata": {
        "id": "HQm6McEwAGTS"
      },
      "source": [
        "# Placeholder for student's code (2 lines of Python code)\n",
        "# Task: Transform the first observation of X_train into a dataframe, call it obs and make prediction on it"
      ],
      "execution_count": null,
      "outputs": []
    },
    {
      "cell_type": "code",
      "metadata": {
        "id": "DJTG4hvIddpv"
      },
      "source": [
        "# Solution:\n",
        "obs = pd.DataFrame(X_train.iloc[0]).transpose()\n",
        "gmm_pipe.predict(obs)"
      ],
      "execution_count": null,
      "outputs": []
    },
    {
      "cell_type": "markdown",
      "metadata": {
        "id": "F_PB7F0zAGja"
      },
      "source": [
        "**[5.10]** Import `dump` from `joblib` package and save `gmm_pipe` into `models` folder"
      ]
    },
    {
      "cell_type": "code",
      "metadata": {
        "id": "orvi7ipgAGqC"
      },
      "source": [
        "# Placeholder for student's code (2 lines of Python code)\n",
        "# Task: Import dump from joblib package and save gmm_pipe into models folder"
      ],
      "execution_count": null,
      "outputs": []
    },
    {
      "cell_type": "code",
      "metadata": {
        "id": "i-RBPfJqAGsB"
      },
      "source": [
        "# Solution:\n",
        "from joblib import dump \n",
        "\n",
        "dump(gmm_pipe,  '../models/gmm_pipeline.joblib')"
      ],
      "execution_count": null,
      "outputs": []
    },
    {
      "cell_type": "markdown",
      "metadata": {
        "id": "1yX0Ocg4hcZM"
      },
      "source": [
        "### 6.   Push changes"
      ]
    },
    {
      "cell_type": "markdown",
      "metadata": {
        "id": "3guOKU9gjrmp"
      },
      "source": [
        "**[6.1]** Add you changes to git staging area"
      ]
    },
    {
      "cell_type": "code",
      "metadata": {
        "id": "lKuRNeqAj0ym"
      },
      "source": [
        "# Placeholder for student's code (1 command line)\n",
        "# Task: Add you changes to git staging area"
      ],
      "execution_count": null,
      "outputs": []
    },
    {
      "cell_type": "code",
      "metadata": {
        "id": "axcj-jS0jruy"
      },
      "source": [
        "# Solution:\n",
        "git add ."
      ],
      "execution_count": null,
      "outputs": []
    },
    {
      "cell_type": "markdown",
      "metadata": {
        "id": "6nUK2dp_j67X"
      },
      "source": [
        "**[6.2]** Create the snapshot of your repository and add a description"
      ]
    },
    {
      "cell_type": "code",
      "metadata": {
        "id": "1-M-aS-Ij7EE"
      },
      "source": [
        "# Placeholder for student's code (1 command line)\n",
        "# Task: Create the snapshot of your repository and add a description"
      ],
      "execution_count": null,
      "outputs": []
    },
    {
      "cell_type": "code",
      "metadata": {
        "id": "zovhzXRxj7Il"
      },
      "source": [
        "# Solution:\n",
        "git commit -m \"gmm pipeline\""
      ],
      "execution_count": null,
      "outputs": []
    },
    {
      "cell_type": "markdown",
      "metadata": {
        "id": "Y9FciIQZj7nX"
      },
      "source": [
        "**[6.3]** Push your snapshot to Github"
      ]
    },
    {
      "cell_type": "code",
      "metadata": {
        "id": "IR7i6D5hj7uO"
      },
      "source": [
        "# Placeholder for student's code (1 command line)\n",
        "# Task: Push your snapshot to Github"
      ],
      "execution_count": null,
      "outputs": []
    },
    {
      "cell_type": "code",
      "metadata": {
        "id": "WaVAgJ4Aj7wi"
      },
      "source": [
        "# Solution:\n",
        "git push"
      ],
      "execution_count": null,
      "outputs": []
    },
    {
      "cell_type": "markdown",
      "metadata": {
        "id": "d7a6bwMniAs1"
      },
      "source": [
        "**[6.4]** Check out to the master branch"
      ]
    },
    {
      "cell_type": "code",
      "metadata": {
        "id": "eM9v_33XiA1I"
      },
      "source": [
        "# Placeholder for student's code (1 command line)\n",
        "# Task: Check out to the master branch"
      ],
      "execution_count": null,
      "outputs": []
    },
    {
      "cell_type": "code",
      "metadata": {
        "id": "d6-AI0x7iA4M"
      },
      "source": [
        "# Solution:\n",
        "git checkout master"
      ],
      "execution_count": null,
      "outputs": []
    },
    {
      "cell_type": "markdown",
      "metadata": {
        "id": "v98Ka9kNiBLw"
      },
      "source": [
        "**[6.5]** Pull the latest updates"
      ]
    },
    {
      "cell_type": "code",
      "metadata": {
        "id": "yNZb1PyEjIOP"
      },
      "source": [
        "# Placeholder for student's code (1 command line)\n",
        "# Task: Pull the latest updates"
      ],
      "execution_count": null,
      "outputs": []
    },
    {
      "cell_type": "code",
      "metadata": {
        "id": "5TJAEYxPjIRS"
      },
      "source": [
        "git pull"
      ],
      "execution_count": null,
      "outputs": []
    },
    {
      "cell_type": "markdown",
      "metadata": {
        "id": "Kv7gQKW1D7MP"
      },
      "source": [
        "**[6.6]** Check out to the `gmm_pipeline`"
      ]
    },
    {
      "cell_type": "code",
      "metadata": {
        "id": "UN1lrwlcD7Ut"
      },
      "source": [
        "# Placeholder for student's code (1 command line)\n",
        "# Task: Check out to the gmm_pipeline"
      ],
      "execution_count": null,
      "outputs": []
    },
    {
      "cell_type": "code",
      "metadata": {
        "id": "wp32cMBhD7f7"
      },
      "source": [
        "# Solution:\n",
        "git checkout gmm_pipeline"
      ],
      "execution_count": null,
      "outputs": []
    },
    {
      "cell_type": "markdown",
      "metadata": {
        "id": "pGd3Xdx-jJDk"
      },
      "source": [
        "**[6.7]** Merge the `master` branch and push your changes\n"
      ]
    },
    {
      "cell_type": "code",
      "metadata": {
        "id": "aEYg8wauiBUb"
      },
      "source": [
        "# Placeholder for student's code (2 command lines)\n",
        "# Task: Merge the master branch and push your changes"
      ],
      "execution_count": null,
      "outputs": []
    },
    {
      "cell_type": "code",
      "metadata": {
        "id": "YNZunyVsiBXd"
      },
      "source": [
        "# Solution:\n",
        "git merge master\n",
        "git push"
      ],
      "execution_count": null,
      "outputs": []
    },
    {
      "cell_type": "markdown",
      "metadata": {
        "id": "8B98cSvWkB-x"
      },
      "source": [
        "**[6.8]** Go to Github and merge the branch after reviewing the code and fixing any conflict\n",
        "\n",
        "\n"
      ]
    },
    {
      "cell_type": "markdown",
      "metadata": {
        "id": "EkQx18jYiEvQ"
      },
      "source": [
        "**[6.9]** Stop the Docker container"
      ]
    },
    {
      "cell_type": "code",
      "metadata": {
        "id": "OlimZMQsiE7w"
      },
      "source": [
        "# Placeholder for student's code (1 command line)\n",
        "# Task: Stop the Docker container"
      ],
      "execution_count": null,
      "outputs": []
    },
    {
      "cell_type": "code",
      "metadata": {
        "id": "ovwOAbC5iE-T"
      },
      "source": [
        "# Solution:\n",
        "docker stop adv_dsi_lab_4"
      ],
      "execution_count": null,
      "outputs": []
    }
  ]
}