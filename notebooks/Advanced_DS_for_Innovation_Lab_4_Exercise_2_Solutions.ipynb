{
  "nbformat": 4,
  "nbformat_minor": 0,
  "metadata": {
    "colab": {
      "name": "Advanced DS for Innovation - Lab 4 - Exercise 2 - Solutions",
      "provenance": [],
      "collapsed_sections": []
    },
    "kernelspec": {
      "name": "python3",
      "display_name": "Python 3"
    }
  },
  "cells": [
    {
      "cell_type": "markdown",
      "metadata": {
        "id": "uQ6wc2HE0pke"
      },
      "source": [
        "# **Lab: Model Deployment**\n",
        "\n"
      ]
    },
    {
      "cell_type": "markdown",
      "metadata": {
        "id": "tQgxLRrvjiJb"
      },
      "source": [
        "## Exercise 2: Deploy FastAPI\n",
        "\n",
        "We will create a web app for serving our trained model from last exercise and deploy it to Heroku\n",
        "\n",
        "**Pre-requisites:**\n",
        "- Create a github account (https://github.com/join)\n",
        "- Install git (https://git-scm.com/book/en/v2/Getting-Started-Installing-Git)\n",
        "- Install Docker (https://docs.docker.com/get-docker/)\n",
        "- Create a Heroku account (https://signup.heroku.com/)\n",
        "\n",
        "The steps are:\n",
        "1.   Setup Repository\n",
        "2.   Build FastApi app\n",
        "3.   Deploy to Heroku\n",
        "4.   Push Changes\n"
      ]
    },
    {
      "cell_type": "markdown",
      "metadata": {
        "id": "smh_LhVjIg9s"
      },
      "source": [
        "### 1. Setup Repository"
      ]
    },
    {
      "cell_type": "markdown",
      "metadata": {
        "id": "_fTLEcebNjhz"
      },
      "source": [
        "**[1.1]** Go to a folder of your choice on your computer (where you store projects)"
      ]
    },
    {
      "cell_type": "code",
      "metadata": {
        "id": "Pe-loIVTNjqW"
      },
      "source": [
        "# Placeholder for student's code (1 command line)\n",
        "# Task: Go to a folder of your choice on your computer (where you store projects)"
      ],
      "execution_count": null,
      "outputs": []
    },
    {
      "cell_type": "code",
      "metadata": {
        "id": "4dL8A5y-NjtY"
      },
      "source": [
        "#Solution:\n",
        "cd ~/Projects/"
      ],
      "execution_count": null,
      "outputs": []
    },
    {
      "cell_type": "markdown",
      "metadata": {
        "id": "EHQBJUHEQqcs"
      },
      "source": [
        "**[1.2]** Create a folder called `adv_dsi_lab_4_gmm_api` and go inside the created folder"
      ]
    },
    {
      "cell_type": "code",
      "metadata": {
        "id": "bM-1oZYxQqmO"
      },
      "source": [
        "# Placeholder for student's code (1 command line)\n",
        "# Task: Copy the cookiecutter data science template"
      ],
      "execution_count": null,
      "outputs": []
    },
    {
      "cell_type": "code",
      "metadata": {
        "id": "TbseMHf7Qqo2"
      },
      "source": [
        "#Solution:\n",
        "mkdir adv_dsi_lab_4_gmm_api\n",
        "cd adv_dsi_lab_4_gmm_api"
      ],
      "execution_count": null,
      "outputs": []
    },
    {
      "cell_type": "markdown",
      "metadata": {
        "id": "f2k37MGDMVte"
      },
      "source": [
        "**[1.3]** Copy the `models` folder from previous exercise"
      ]
    },
    {
      "cell_type": "code",
      "metadata": {
        "id": "4VNddaBFMV7j"
      },
      "source": [
        "# Placeholder for student's code (1 command line)\n",
        "# Task: Copy the trained model from previous exercise into models folder"
      ],
      "execution_count": null,
      "outputs": []
    },
    {
      "cell_type": "code",
      "metadata": {
        "id": "JehayVOIMV_E"
      },
      "source": [
        "#Solution:\n",
        "cp -r ../adv_dsi_lab_4/models ."
      ],
      "execution_count": null,
      "outputs": []
    },
    {
      "cell_type": "markdown",
      "metadata": {
        "id": "4MCoAnnacjS1"
      },
      "source": [
        "**[1.4]** Initialise the repo"
      ]
    },
    {
      "cell_type": "code",
      "metadata": {
        "id": "P-TPhgLMcjaL"
      },
      "source": [
        "# Placeholder for student's code (1 command line)\n",
        "# Task: Initialise the repo"
      ],
      "execution_count": null,
      "outputs": []
    },
    {
      "cell_type": "code",
      "metadata": {
        "id": "jTTOWPgjckKe"
      },
      "source": [
        "#Solution:\n",
        "git init"
      ],
      "execution_count": null,
      "outputs": []
    },
    {
      "cell_type": "markdown",
      "metadata": {
        "id": "hGw8ot1UdHqg"
      },
      "source": [
        "**[1.5]** Login into Github with your account (https://github.com/) and create a public repo with the name `adv_dsi_lab_4_gmm_api`"
      ]
    },
    {
      "cell_type": "markdown",
      "metadata": {
        "id": "jD4H0EtCdDFr"
      },
      "source": [
        "**[1.6]** In your local repo `adv_dsi_lab_4`, link it with Github (replace the url with your username)"
      ]
    },
    {
      "cell_type": "code",
      "metadata": {
        "id": "_3fCS9HtdDNw"
      },
      "source": [
        "# Placeholder for student's code (1 command line)\n",
        "# Task: Link repo with Github"
      ],
      "execution_count": null,
      "outputs": []
    },
    {
      "cell_type": "code",
      "metadata": {
        "id": "lpxHoo3SdDQo"
      },
      "source": [
        "#Solution:\n",
        "git remote add origin git@github.com:<username>/adv_dsi_lab_1_4"
      ],
      "execution_count": null,
      "outputs": []
    },
    {
      "cell_type": "markdown",
      "metadata": {
        "id": "E7Ae6ABgURiV"
      },
      "source": [
        "**[1.7]** Add you changes to git staging area and commit them"
      ]
    },
    {
      "cell_type": "code",
      "metadata": {
        "id": "UKqsaMVlURsb"
      },
      "source": [
        "# Placeholder for student's code (2 command lines)\n",
        "# Task: Add you changes to git staging area and commit them"
      ],
      "execution_count": null,
      "outputs": []
    },
    {
      "cell_type": "code",
      "metadata": {
        "id": "wUTBEa57URvJ"
      },
      "source": [
        "#Solution:\n",
        "git add .\n",
        "git commit -m \"init\""
      ],
      "execution_count": null,
      "outputs": []
    },
    {
      "cell_type": "markdown",
      "metadata": {
        "id": "3oRUjdX0dbBu"
      },
      "source": [
        "**[1.8]** Push your master branch to origin"
      ]
    },
    {
      "cell_type": "code",
      "metadata": {
        "id": "1UzrKvGtdbGy"
      },
      "source": [
        "# Placeholder for student's code (1 command line)\n",
        "# Task: Push your master branch to origin"
      ],
      "execution_count": null,
      "outputs": []
    },
    {
      "cell_type": "code",
      "metadata": {
        "id": "Wv0pkcLkdbPL"
      },
      "source": [
        "# Solution:\n",
        "git push --set-upstream origin master"
      ],
      "execution_count": null,
      "outputs": []
    },
    {
      "cell_type": "markdown",
      "metadata": {
        "id": "X6qeQSazZ8Pn"
      },
      "source": [
        "### 2. Build FastApi app"
      ]
    },
    {
      "cell_type": "markdown",
      "metadata": {
        "id": "jxQRDLu2C6D4"
      },
      "source": [
        "**[2.1]** Create a new git branch called `fastapi`"
      ]
    },
    {
      "cell_type": "code",
      "metadata": {
        "id": "y-S-ZdcqdoF7"
      },
      "source": [
        "# Placeholder for student's code (1 command line)\n",
        "# Task: Create a new git branch called fastapi"
      ],
      "execution_count": null,
      "outputs": []
    },
    {
      "cell_type": "code",
      "metadata": {
        "id": "zBD6K4MXC6rA"
      },
      "source": [
        "# Solution:\n",
        "git checkout -b fastapi"
      ],
      "execution_count": null,
      "outputs": []
    },
    {
      "cell_type": "markdown",
      "metadata": {
        "id": "844V13ChVvER"
      },
      "source": [
        "**[2.2]** Create a file called `requirements.txt` with the following content:\n",
        "\n",
        "`scikit-learn==0.22.1`\n",
        "\n",
        "`pandas==0.25.3`\n",
        "\n",
        "`numpy==1.18.1`\n",
        "\n",
        "`fastapi==0.63.0`\n",
        "\n",
        "`uvicorn==0.13.3`"
      ]
    },
    {
      "cell_type": "code",
      "metadata": {
        "id": "Bk8J-nW_WeOb"
      },
      "source": [
        "# Placeholder for student's code (1 command line)\n",
        "# Task: Create a file called requirements.txt"
      ],
      "execution_count": null,
      "outputs": []
    },
    {
      "cell_type": "code",
      "metadata": {
        "id": "JKxxxokNWeX4"
      },
      "source": [
        "# Solution:\n",
        "vi requirements.txt"
      ],
      "execution_count": null,
      "outputs": []
    },
    {
      "cell_type": "markdown",
      "metadata": {
        "id": "elPnd9JPQwkD"
      },
      "source": [
        "**[2.3]** Create a folder called `app`"
      ]
    },
    {
      "cell_type": "code",
      "metadata": {
        "id": "5VlHqFVqQwuC"
      },
      "source": [
        "# Placeholder for student's code (1 command line)\n",
        "# Task: Create 2 folders called app and models"
      ],
      "execution_count": null,
      "outputs": []
    },
    {
      "cell_type": "code",
      "metadata": {
        "id": "df9ydWQNQww0"
      },
      "source": [
        "# Solution:\n",
        "mkdir app"
      ],
      "execution_count": null,
      "outputs": []
    },
    {
      "cell_type": "markdown",
      "metadata": {
        "id": "yTjwF_joDWnE"
      },
      "source": [
        "**[2.4]** Create a file called `Dockerfile` with the following content:\n",
        "\n",
        "`FROM tiangolo/uvicorn-gunicorn-fastapi:python3.7`\n",
        "\n",
        "`COPY requirements.txt .`\n",
        "\n",
        "`RUN pip3 install -r requirements.txt`\n",
        "\n",
        "`COPY ./app /app`\n",
        "\n",
        "`COPY ./models /models`\n",
        "\n",
        "`CMD [\"gunicorn\", \"-k\", \"uvicorn.workers.UvicornWorker\", \"-c\", \"/gunicorn_conf.py\", \"main:app\"]`"
      ]
    },
    {
      "cell_type": "code",
      "metadata": {
        "id": "J-etp0_vbHYk"
      },
      "source": [
        "# Placeholder for student's code (1 command line)\n",
        "# Task: Create a file called Dockerfile"
      ],
      "execution_count": null,
      "outputs": []
    },
    {
      "cell_type": "code",
      "metadata": {
        "id": "xfVIPBh9jmya"
      },
      "source": [
        "# Solution:\n",
        "vi Dockerfile"
      ],
      "execution_count": null,
      "outputs": []
    },
    {
      "cell_type": "markdown",
      "metadata": {
        "id": "hkvRJNc7bLgG"
      },
      "source": [
        "**[2.5]** Create a file called `main.py` in the `app` folder"
      ]
    },
    {
      "cell_type": "code",
      "metadata": {
        "id": "d2Hf5vFQbLpC"
      },
      "source": [
        "# Placeholder for student's code (1 command line)\n",
        "# Task: Create a file called main.py in the app folder"
      ],
      "execution_count": null,
      "outputs": []
    },
    {
      "cell_type": "code",
      "metadata": {
        "id": "ra_c0rU3bLr1"
      },
      "source": [
        "# Solution:\n",
        "vi app/main.py"
      ],
      "execution_count": null,
      "outputs": []
    },
    {
      "cell_type": "markdown",
      "metadata": {
        "id": "Fgtw-6bjbcm_"
      },
      "source": [
        "**[2.6]** Inside the `main.py` file, import FastAPI from fastapi, JSONResponse from starlette.responses, load from joblib and pandas"
      ]
    },
    {
      "cell_type": "code",
      "metadata": {
        "id": "xACZy7_Kbcxb"
      },
      "source": [
        "# Placeholder for student's code (4 lines of Python code)\n",
        "# Task: Inside the main.py file, import FastAPI from fastapi, JSONResponse from starlette.responses, load from joblib and pandas"
      ],
      "execution_count": null,
      "outputs": []
    },
    {
      "cell_type": "code",
      "metadata": {
        "id": "RIS1P4oUbc2y"
      },
      "source": [
        "# Solution:\n",
        "from fastapi import FastAPI\n",
        "from starlette.responses import JSONResponse\n",
        "from joblib import load\n",
        "import pandas as pd"
      ],
      "execution_count": null,
      "outputs": []
    },
    {
      "cell_type": "markdown",
      "metadata": {
        "id": "aE6WZ2EZb5NX"
      },
      "source": [
        "**[2.7]** Inside the `main.py` file, instantiate a FastAPI() class and save it into a variable called `app`"
      ]
    },
    {
      "cell_type": "code",
      "metadata": {
        "id": "QnfxnRA0b5Vd"
      },
      "source": [
        "# Placeholder for student's code (1 line of Python code)\n",
        "# Task: Inside the main.py file, instantiate a FastAPI() class and save it into a variable called app"
      ],
      "execution_count": null,
      "outputs": []
    },
    {
      "cell_type": "code",
      "metadata": {
        "id": "Kove3Um4b5Ya"
      },
      "source": [
        "# Solution:\n",
        "app = FastAPI()"
      ],
      "execution_count": null,
      "outputs": []
    },
    {
      "cell_type": "markdown",
      "metadata": {
        "id": "858kwGWwcLGm"
      },
      "source": [
        "**[2.8]** Inside the `main.py` file, load your trained model from `models` folder and save it into a variable called `gmm_pipe`"
      ]
    },
    {
      "cell_type": "code",
      "metadata": {
        "id": "8pne9w7hcLMZ"
      },
      "source": [
        "# Placeholder for student's code (1 line of Python code)\n",
        "# Task: Inside the main.py file, load your trained model from models folder and save it into a variable called gmm_pipe"
      ],
      "execution_count": null,
      "outputs": []
    },
    {
      "cell_type": "code",
      "metadata": {
        "id": "d2mnwsgFcLPY"
      },
      "source": [
        "# Solution:\n",
        "gmm_pipe = load('../models/gmm_pipeline.joblib')"
      ],
      "execution_count": null,
      "outputs": []
    },
    {
      "cell_type": "markdown",
      "metadata": {
        "id": "jkw62HxwcZei"
      },
      "source": [
        "**[2.9]** Inside the `main.py` file, create a function called `read_root()` that will return a dictionary with `Hello` as key and `World` as value. Add a decorator to it in order to add a GET endpoint to `app` on the root"
      ]
    },
    {
      "cell_type": "code",
      "metadata": {
        "id": "NsSwgeGXcZm1"
      },
      "source": [
        "# Placeholder for student's code (3 lines of Python code)\n",
        "# Task: Inside the main.py file, create a function called read_root() that will return a dictionary with Hello as key and World as value. Add a decorator to it in order to add a GET endpoint to app on the root"
      ],
      "execution_count": null,
      "outputs": []
    },
    {
      "cell_type": "code",
      "metadata": {
        "id": "aTEPhGJPcZ0Z"
      },
      "source": [
        "# Solution:\n",
        "@app.get(\"/\")\n",
        "def read_root():\n",
        "    return {\"Hello\": \"World\"}"
      ],
      "execution_count": null,
      "outputs": []
    },
    {
      "cell_type": "markdown",
      "metadata": {
        "id": "vaXTLlJHdEet"
      },
      "source": [
        "**[2.10]** Inside the `main.py` file, create a function called `healthcheck()` that will return `GMM Clustering is all ready to go!`. Add a decorator to it in order to add a GET endpoint to `app` on `/health` with status code `200`"
      ]
    },
    {
      "cell_type": "code",
      "metadata": {
        "id": "30DYrAzBdElu"
      },
      "source": [
        "# Placeholder for student's code (3 lines of Python code)\n",
        "# Task: Inside the main.py file, create a function called healthcheck() that will return GMM Clustering is all ready to go!. Add a decorator to it in order to add a GET endpoint to app on /health with status code 200"
      ],
      "execution_count": null,
      "outputs": []
    },
    {
      "cell_type": "code",
      "metadata": {
        "id": "0gICH-K_dEn_"
      },
      "source": [
        "# Solution:\n",
        "@app.get('/health', status_code=200)\n",
        "def healthcheck():\n",
        "    return 'GMM Clustering is all ready to go!'"
      ],
      "execution_count": null,
      "outputs": []
    },
    {
      "cell_type": "markdown",
      "metadata": {
        "id": "_Xbp4Hf5df2d"
      },
      "source": [
        "**[2.11]** Inside the `main.py` file, create a function called `format_features()` with `genre`,\t`age`, `income` and `spending` as input parameters that will return a dictionary with the names of the features as keys and the inpot parameters as lists"
      ]
    },
    {
      "cell_type": "code",
      "metadata": {
        "id": "PVerBBrBdf-T"
      },
      "source": [
        "# Placeholder for student's code (multiple lines of Python code)\n",
        "# Task: Inside the main.py file, create a function called format_features() with genre, age, income and spending as input parameters that will return a dictionary with the names of the features as keys and the inpot parameters as lists"
      ],
      "execution_count": null,
      "outputs": []
    },
    {
      "cell_type": "code",
      "metadata": {
        "id": "b2hB1vjbdgAs"
      },
      "source": [
        "# Solution:\n",
        "def format_features(genre: str,\tage: int, income: int, spending: int):\n",
        "  return {\n",
        "        'Gender': [genre],\n",
        "        'Age': [age],\n",
        "        'Annual Income (k$)': [income],\n",
        "        'Spending Score (1-100)': [spending]\n",
        "    }"
      ],
      "execution_count": null,
      "outputs": []
    },
    {
      "cell_type": "markdown",
      "metadata": {
        "id": "1MUQBuVsfhEx"
      },
      "source": [
        "**[2.12]** Inside the `main.py` file, Define a function called `predict` with the following logics:\n",
        "- input parameters: `genre`,\t`age`, `income` and `spending`\n",
        "- logics: format the input parameters as dict, convert it to a dataframe and make prediction with `gmm_pipe`\n",
        "- output: prediction as json\n",
        "\n",
        "Add a decorator to it in order to add a GET endpoint to `app` on `/mall/customers/segmentation`"
      ]
    },
    {
      "cell_type": "code",
      "metadata": {
        "id": "cguIH80afhLV"
      },
      "source": [
        "# Placeholder for student's code (multiple lines of Python code)\n",
        "# Task: Inside the main.py file, Define a function called predict"
      ],
      "execution_count": null,
      "outputs": []
    },
    {
      "cell_type": "code",
      "metadata": {
        "id": "xQrzjhoffhNy"
      },
      "source": [
        "# Solution:\n",
        "@app.get(\"/mall/customers/segmentation\")\n",
        "def predict(genre: str,\tage: int, income: int, spending: int):\n",
        "    features = format_features(genre,\tage, income, spending)\n",
        "    obs = pd.DataFrame(features)\n",
        "    pred = gmm_pipe.predict(obs)\n",
        "    return JSONResponse(pred.tolist())"
      ],
      "execution_count": null,
      "outputs": []
    },
    {
      "cell_type": "markdown",
      "metadata": {
        "id": "C8GqJloHgzMb"
      },
      "source": [
        "**[2.13]** Add you changes to git staging area and commit them"
      ]
    },
    {
      "cell_type": "code",
      "metadata": {
        "id": "832lVk4PgzUF"
      },
      "source": [
        "# Placeholder for student's code (2 command lines)\n",
        "# Task: Add you changes to git staging area and commit them"
      ],
      "execution_count": null,
      "outputs": []
    },
    {
      "cell_type": "code",
      "metadata": {
        "id": "-vmWigctgzXL"
      },
      "source": [
        "# Solution:\n",
        "git add .\n",
        "git commit -m \"init\""
      ],
      "execution_count": null,
      "outputs": []
    },
    {
      "cell_type": "markdown",
      "metadata": {
        "id": "O0f6dK_Ag_KK"
      },
      "source": [
        "**[2.14]** Build the image from the Dockerfile"
      ]
    },
    {
      "cell_type": "code",
      "metadata": {
        "id": "9ge_fmZ0Hr5w"
      },
      "source": [
        "# Placeholder for student's code (1 command line)\n",
        "# Task: Build the image from the Dockerfile"
      ],
      "execution_count": null,
      "outputs": []
    },
    {
      "cell_type": "code",
      "metadata": {
        "id": "llp9cR3rHunU"
      },
      "source": [
        "# Solution:\n",
        "docker build -t gmm-fastapi:latest ."
      ],
      "execution_count": null,
      "outputs": []
    },
    {
      "cell_type": "markdown",
      "metadata": {
        "id": "zO4u0GI-hTOc"
      },
      "source": [
        "**[2.15]** Run the built image with port 8080 mapped to 80"
      ]
    },
    {
      "cell_type": "code",
      "metadata": {
        "id": "c5sRr-QchTXz"
      },
      "source": [
        "# Placeholder for student's code (1 command line)\n",
        "# Task: Run the built image with port 8080 mapped to 80"
      ],
      "execution_count": null,
      "outputs": []
    },
    {
      "cell_type": "code",
      "metadata": {
        "id": "n-15O-bChTbD"
      },
      "source": [
        "# Solution:\n",
        "docker run -dit --rm --name adv_dsi_lab_4_gmm_fastapi -p 8080:80 gmm-fastapi:latest"
      ],
      "execution_count": null,
      "outputs": []
    },
    {
      "cell_type": "markdown",
      "metadata": {
        "id": "tByfFCRyhv_r"
      },
      "source": [
        "**[2.15]** Open a browser and navigate through:\n",
        "\n",
        "http://localhost:8080\n",
        "\n",
        "http://localhost:8080/health\n",
        "\n",
        "\n",
        "http://localhost:8080/docs"
      ]
    },
    {
      "cell_type": "markdown",
      "metadata": {
        "id": "m20qs369h9_H"
      },
      "source": [
        "**[2.16]** In yout browser, copy-paste http://localhost:8080/mall/customers/segmentation?genre=Female&age=65&income=38&spending=35"
      ]
    },
    {
      "cell_type": "markdown",
      "metadata": {
        "id": "sl4dXUKQiJme"
      },
      "source": [
        "**[2.17]** Stop the docker container"
      ]
    },
    {
      "cell_type": "code",
      "metadata": {
        "id": "FCXVUQjMiJ5G"
      },
      "source": [
        "# Placeholder for student's code (1 command line)\n",
        "# Task: Stop the docker container"
      ],
      "execution_count": null,
      "outputs": []
    },
    {
      "cell_type": "code",
      "metadata": {
        "id": "XOPajUgJiJ8l"
      },
      "source": [
        "# Solution:\n",
        "docker stop adv_dsi_lab_4_gmm_fastapi"
      ],
      "execution_count": null,
      "outputs": []
    },
    {
      "cell_type": "markdown",
      "metadata": {
        "id": "vZFd_EdqiVZD"
      },
      "source": [
        "### 3. Deploy to Heroku"
      ]
    },
    {
      "cell_type": "markdown",
      "metadata": {
        "id": "X-Adej4aiVg2"
      },
      "source": [
        "**[3.1]** Login into heroku via command line"
      ]
    },
    {
      "cell_type": "code",
      "metadata": {
        "id": "oVbOeF4fiVlp"
      },
      "source": [
        "# Placeholder for student's code (1 command line)\n",
        "# Task: Login into heroku via command line"
      ],
      "execution_count": null,
      "outputs": []
    },
    {
      "cell_type": "code",
      "metadata": {
        "id": "swnnT_ihiVo5"
      },
      "source": [
        "# Solution:\n",
        "heroku login"
      ],
      "execution_count": null,
      "outputs": []
    },
    {
      "cell_type": "markdown",
      "metadata": {
        "id": "76F-IAbCimLQ"
      },
      "source": [
        "**[3.2]** Create a heroku project via command line"
      ]
    },
    {
      "cell_type": "code",
      "metadata": {
        "id": "qVJaJ3FlimT3"
      },
      "source": [
        "# Placeholder for student's code (1 command line)\n",
        "# Task: Create a heroku project via command line"
      ],
      "execution_count": null,
      "outputs": []
    },
    {
      "cell_type": "code",
      "metadata": {
        "id": "4Q9A-W42imWz"
      },
      "source": [
        "# Solution:\n",
        "heroku create"
      ],
      "execution_count": null,
      "outputs": []
    },
    {
      "cell_type": "markdown",
      "metadata": {
        "id": "5wLL-y2hiyaZ"
      },
      "source": [
        "**[3.3]** Create a file called `heroku.yml` with the following content:\n",
        "\n",
        "`build:`\n",
        "\n",
        "`  docker:`\n",
        "\n",
        "`    web: Dockerfile`"
      ]
    },
    {
      "cell_type": "code",
      "metadata": {
        "id": "w1-CZU0eJAv9"
      },
      "source": [
        "# Placeholder for student's code (1 command line)\n",
        "# Task: Create a file called heroku.yml"
      ],
      "execution_count": null,
      "outputs": []
    },
    {
      "cell_type": "code",
      "metadata": {
        "id": "kTIYvYxMJHQA"
      },
      "source": [
        "# Solution:\n",
        "nano heroku.yml"
      ],
      "execution_count": null,
      "outputs": []
    },
    {
      "cell_type": "markdown",
      "metadata": {
        "id": "MmfN94DwjDgk"
      },
      "source": [
        "**[3.4]** Add you changes to git staging area and commit them"
      ]
    },
    {
      "cell_type": "code",
      "metadata": {
        "id": "3Rnybi5v3ARI"
      },
      "source": [
        "# Placeholder for student's code (2 command lines)\n",
        "# Task: Add you changes to git staging area and commit them"
      ],
      "execution_count": null,
      "outputs": []
    },
    {
      "cell_type": "code",
      "metadata": {
        "colab": {
          "base_uri": "https://localhost:8080/",
          "height": 35
        },
        "id": "7bUFXnhJ3cLY",
        "outputId": "3186c317-4f0c-4af2-c70d-9f2871b2d8c5"
      },
      "source": [
        "# Solution:\n",
        "git add .\n",
        "git commit -m \"heroku\""
      ],
      "execution_count": null,
      "outputs": [
        {
          "output_type": "execute_result",
          "data": {
            "application/vnd.google.colaboratory.intrinsic+json": {
              "type": "string"
            },
            "text/plain": [
              "''"
            ]
          },
          "metadata": {
            "tags": []
          },
          "execution_count": 24
        }
      ]
    },
    {
      "cell_type": "markdown",
      "metadata": {
        "id": "F9W6NJfxjPjp"
      },
      "source": [
        "**[3.5]** Set the stack of your app to `container`"
      ]
    },
    {
      "cell_type": "code",
      "metadata": {
        "id": "GV6gUwNCjPyK"
      },
      "source": [
        "heroku stack:set container"
      ],
      "execution_count": null,
      "outputs": []
    },
    {
      "cell_type": "markdown",
      "metadata": {
        "id": "UC-dXvpEjmVn"
      },
      "source": [
        "**[3.6]** Push your change to heroku"
      ]
    },
    {
      "cell_type": "code",
      "metadata": {
        "id": "ayBdGyDMjmeX"
      },
      "source": [
        "# Placeholder for student's code (2 command lines)\n",
        "# Task: Push your change to heroku"
      ],
      "execution_count": null,
      "outputs": []
    },
    {
      "cell_type": "code",
      "metadata": {
        "id": "kWHRr-v5jmhP"
      },
      "source": [
        "# Solution:\n",
        "git push heroku master"
      ],
      "execution_count": null,
      "outputs": []
    },
    {
      "cell_type": "markdown",
      "metadata": {
        "id": "CcBG6EMNkNjr"
      },
      "source": [
        "**[3.7]** On your browser go to the heroku page\n",
        "https://<project_name>.herokuapp.com/docs\n",
        "\n",
        "like:\n",
        "\n",
        "https://fast-temple-40998.herokuapp.com/docs"
      ]
    },
    {
      "cell_type": "markdown",
      "metadata": {
        "id": "U4Tw6dqOkjSW"
      },
      "source": [
        "**[3.8]** On your browser go to the heroku page\n",
        "https://<project_name>.herokuapp.com/mall/customers/segmentation/params?genre=Female&age=65&income=38&spending=35\n",
        "\n",
        "like:\n",
        "\n",
        "https://fast-temple-40998.herokuapp.com/mall/customers/segmentation/params?genre=Female&age=65&income=38&spending=35"
      ]
    },
    {
      "cell_type": "markdown",
      "metadata": {
        "id": "1yX0Ocg4hcZM"
      },
      "source": [
        "### 4.   Push changes"
      ]
    },
    {
      "cell_type": "markdown",
      "metadata": {
        "id": "Y9FciIQZj7nX"
      },
      "source": [
        "**[4.1]** Push your snapshot to Github"
      ]
    },
    {
      "cell_type": "code",
      "metadata": {
        "id": "IR7i6D5hj7uO"
      },
      "source": [
        "# Placeholder for student's code (1 command line)\n",
        "# Task: Push your snapshot to Github"
      ],
      "execution_count": null,
      "outputs": []
    },
    {
      "cell_type": "code",
      "metadata": {
        "id": "WaVAgJ4Aj7wi"
      },
      "source": [
        "# Solution:\n",
        "git push"
      ],
      "execution_count": null,
      "outputs": []
    },
    {
      "cell_type": "markdown",
      "metadata": {
        "id": "d7a6bwMniAs1"
      },
      "source": [
        "**[4.2]** Check out to the master branch"
      ]
    },
    {
      "cell_type": "code",
      "metadata": {
        "id": "eM9v_33XiA1I"
      },
      "source": [
        "# Placeholder for student's code (1 command line)\n",
        "# Task: Check out to the master branch"
      ],
      "execution_count": null,
      "outputs": []
    },
    {
      "cell_type": "code",
      "metadata": {
        "id": "d6-AI0x7iA4M"
      },
      "source": [
        "# Solution:\n",
        "git checkout master"
      ],
      "execution_count": null,
      "outputs": []
    },
    {
      "cell_type": "markdown",
      "metadata": {
        "id": "v98Ka9kNiBLw"
      },
      "source": [
        "**[4.3]** Pull the latest updates"
      ]
    },
    {
      "cell_type": "code",
      "metadata": {
        "id": "yNZb1PyEjIOP"
      },
      "source": [
        "# Placeholder for student's code (1 command line)\n",
        "# Task: Pull the latest updates"
      ],
      "execution_count": null,
      "outputs": []
    },
    {
      "cell_type": "code",
      "metadata": {
        "id": "5TJAEYxPjIRS"
      },
      "source": [
        "git pull"
      ],
      "execution_count": null,
      "outputs": []
    },
    {
      "cell_type": "markdown",
      "metadata": {
        "id": "IIjhYFaMEvqD"
      },
      "source": [
        "**[4.4]** Check out to the `gmm_fastapi` branch"
      ]
    },
    {
      "cell_type": "code",
      "metadata": {
        "id": "FxYediRaEvwp"
      },
      "source": [
        "# Placeholder for student's code (1 command line)\n",
        "# Task: Check out to the gmm_fastapi branch"
      ],
      "execution_count": null,
      "outputs": []
    },
    {
      "cell_type": "code",
      "metadata": {
        "id": "Db_lceBWEvzZ"
      },
      "source": [
        "# Solution:\n",
        "git checkout gmm_fastapi"
      ],
      "execution_count": null,
      "outputs": []
    },
    {
      "cell_type": "markdown",
      "metadata": {
        "id": "pGd3Xdx-jJDk"
      },
      "source": [
        "**[4.5]** Merge the `master` branch and push your changes\n"
      ]
    },
    {
      "cell_type": "code",
      "metadata": {
        "id": "aEYg8wauiBUb"
      },
      "source": [
        "# Placeholder for student's code (2 command lines)\n",
        "# Task: Merge the master branch and push your changes"
      ],
      "execution_count": null,
      "outputs": []
    },
    {
      "cell_type": "code",
      "metadata": {
        "id": "YNZunyVsiBXd"
      },
      "source": [
        "# Solution:\n",
        "git merge master\n",
        "git push"
      ],
      "execution_count": null,
      "outputs": []
    },
    {
      "cell_type": "markdown",
      "metadata": {
        "id": "8B98cSvWkB-x"
      },
      "source": [
        "**[4.6]** Go to Github and merge the branch after reviewing the code and fixing any conflict\n",
        "\n",
        "\n"
      ]
    },
    {
      "cell_type": "markdown",
      "metadata": {
        "id": "EkQx18jYiEvQ"
      },
      "source": [
        "**[4.7]** Stop the Docker container"
      ]
    },
    {
      "cell_type": "code",
      "metadata": {
        "id": "OlimZMQsiE7w"
      },
      "source": [
        "# Placeholder for student's code (1 command line)\n",
        "# Task: Stop the Docker container"
      ],
      "execution_count": null,
      "outputs": []
    },
    {
      "cell_type": "code",
      "metadata": {
        "id": "ovwOAbC5iE-T"
      },
      "source": [
        "# Solution:\n",
        "docker stop adv_dsi_lab_4"
      ],
      "execution_count": null,
      "outputs": []
    }
  ]
}